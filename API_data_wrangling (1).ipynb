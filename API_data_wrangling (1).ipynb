{
 "cells": [
  {
   "cell_type": "markdown",
   "metadata": {},
   "source": [
    "This exercise will require you to pull some data from the Qunadl API. Qaundl is currently the most widely used aggregator of financial market data."
   ]
  },
  {
   "cell_type": "markdown",
   "metadata": {},
   "source": [
    "Qaundl has a large number of data sources, but, unfortunately, most of them require a Premium subscription. Still, there are also a good number of free datasets."
   ]
  },
  {
   "cell_type": "markdown",
   "metadata": {},
   "source": [
    "For this mini project, we will focus on equities data from the Frankfurt Stock Exhange (FSE), which is available for free. We'll try and analyze the stock prices of a company called Carl Zeiss Meditec, which manufactures tools for eye examinations, as well as medical lasers for laser eye surgery: https://www.zeiss.com/meditec/int/home.html. The company is listed under the stock ticker AFX_X.\n"
   ]
  },
  {
   "cell_type": "markdown",
   "metadata": {},
   "source": [
    "You can find the detailed Quandl API instructions here: https://docs.quandl.com/docs/time-series"
   ]
  },
  {
   "cell_type": "markdown",
   "metadata": {},
   "source": [
    "While there is a dedicated Python package for connecting to the Quandl API, we would prefer that you use the *requests* package, which can be easily downloaded using *pip* or *conda*. You can find the documentation for the package here: http://docs.python-requests.org/en/master/ "
   ]
  },
  {
   "cell_type": "markdown",
   "metadata": {},
   "source": [
    "Finally, apart from the *requests* package, you are encouraged to not use any third party Python packages, such as *pandas*, and instead focus on what's available in the Python Standard Library (the *collections* module might come in handy: https://pymotw.com/3/collections/ ).\n",
    "Also,since you won't have access to DataFrames, you are encouraged to us Python's native data structures - preferably dictionaries, though some questions can also be answered using lists.\n",
    "You can read more on these data structures here: https://docs.python.org/3/tutorial/datastructures.html"
   ]
  },
  {
   "cell_type": "markdown",
   "metadata": {},
   "source": [
    "Keep in mind that the JSON responses you will be getting from the API map almost one-to-one to Python's dictionaries. Unfortunately, they can be very nested, so make sure you read up on indexing dictionaries in the documentation provided above."
   ]
  },
  {
   "cell_type": "code",
   "execution_count": 411,
   "metadata": {
    "collapsed": true
   },
   "outputs": [],
   "source": [
    "# Store the API key as a string - according to PEP8, constants are always named in all upper case\n",
    "API_KEY = 'zSp8yhz7AvzSZyqRGGUJ'\n"
   ]
  },
  {
   "cell_type": "code",
   "execution_count": 303,
   "metadata": {
    "collapsed": true
   },
   "outputs": [],
   "source": [
    "# First, import the relevant modules\n",
    "import requests\n",
    "import collections\n",
    "import json\n"
   ]
  },
  {
   "cell_type": "code",
   "execution_count": 304,
   "metadata": {
    "collapsed": false
   },
   "outputs": [
    {
     "name": "stdout",
     "output_type": "stream",
     "text": [
      "['2018-03-27', 156.31, 162.85, 150.75, 152.19, 76787884.0, 0.0, 1.0, 156.31, 162.85, 150.75, 152.19, 76787884.0]\n"
     ]
    }
   ],
   "source": [
    "# Now, call the Quandl API and pull out a small sample of the data (only one day) to get a glimpse\n",
    "# into the JSON structure that will be returned\n",
    "\n",
    "r = requests.get('https://www.quandl.com/api/v3/datasets/WIKI/FB/data.json?api_key='+API_KEY)\n",
    "print(r.json()['dataset_data']['data'][0])\n"
   ]
  },
  {
   "cell_type": "markdown",
   "metadata": {},
   "source": [
    "1) Collect data from the Franfurt Stock Exchange, for the ticker AFX_X, for the whole year 2017 (keep in mind that the date format is YYYY-MM-DD)."
   ]
  },
  {
   "cell_type": "code",
   "execution_count": 307,
   "metadata": {
    "collapsed": false
   },
   "outputs": [],
   "source": [
    "fse=requests.get('https://www.quandl.com/api/v3/datasets/FSE/AFX_X.json?api_key',params=API_KEY)\n"
   ]
  },
  {
   "cell_type": "code",
   "execution_count": 413,
   "metadata": {
    "collapsed": false
   },
   "outputs": [],
   "source": [
    "#create a new list wherein only data from 2017 is included\n",
    "\n",
    "data=(fse.json())['dataset']['data']\n",
    "\n",
    "fse_2017=[]\n",
    "\n",
    "for day in data:\n",
    "    if day[0][:4]=='2017':\n",
    "        fse_2017+=[day]\n",
    "        "
   ]
  },
  {
   "cell_type": "markdown",
   "metadata": {
    "collapsed": true
   },
   "source": [
    "2) Convert the returned JSON object into a Python dictionary."
   ]
  },
  {
   "cell_type": "code",
   "execution_count": 412,
   "metadata": {
    "collapsed": false
   },
   "outputs": [],
   "source": [
    "fse_dict={}\n",
    "key=fse.json()['dataset']['column_names']\n",
    "\n",
    "for day in fse_2017:\n",
    "    pair=dict(zip(key, day))\n",
    "    fse_dict[day[0]]=pair\n"
   ]
  },
  {
   "cell_type": "markdown",
   "metadata": {},
   "source": [
    "3) Calculate what the highest and lowest opening prices were for the stock in this period."
   ]
  },
  {
   "cell_type": "code",
   "execution_count": 407,
   "metadata": {
    "collapsed": false,
    "scrolled": true
   },
   "outputs": [
    {
     "name": "stdout",
     "output_type": "stream",
     "text": [
      "highest opening price in 2017: 53.11\n",
      "lowest opening price in 2017: 34.00\n"
     ]
    }
   ],
   "source": [
    "open_prices=[]\n",
    "\n",
    "for key in fse_dict:\n",
    "    price=fse_dict[key]['Open']\n",
    "    if price is not None:\n",
    "        open_prices+=[price]\n",
    "\n",
    "\n",
    "print ('highest opening price in 2017: %.2f'%max(open_prices))\n",
    "print ('lowest opening price in 2017: %.2f'%min(open_prices))\n",
    "        "
   ]
  },
  {
   "cell_type": "markdown",
   "metadata": {},
   "source": [
    "4) What was the largest change in any one day (based on High and Low price)?"
   ]
  },
  {
   "cell_type": "code",
   "execution_count": 402,
   "metadata": {
    "collapsed": false
   },
   "outputs": [
    {
     "name": "stdout",
     "output_type": "stream",
     "text": [
      "the largest change in any one day was: 2.81\n"
     ]
    }
   ],
   "source": [
    "changes=[]\n",
    "\n",
    "for key in fse_dict:\n",
    "    if fse_dict[key]['High'] and fse_dict[key]['Low'] is not None:\n",
    "        high=fse_dict[key]['High']\n",
    "        low=fse_dict[key]['Low']\n",
    "        change=high-low\n",
    "    changes+=[change]\n",
    "        \n",
    "    \n",
    "print('the largest change in any one day was: %.2f'%max(changes))\n"
   ]
  },
  {
   "cell_type": "markdown",
   "metadata": {
    "collapsed": true
   },
   "source": [
    "5) What was the largest change between any two days (based on Closing Price)?"
   ]
  },
  {
   "cell_type": "code",
   "execution_count": 404,
   "metadata": {
    "collapsed": false
   },
   "outputs": [
    {
     "name": "stdout",
     "output_type": "stream",
     "text": [
      "the largest change between any two days was: 2.56\n"
     ]
    }
   ],
   "source": [
    "close=[]\n",
    "\n",
    "for key in fse_dict:\n",
    "    cp=fse_dict[key]['Close']\n",
    "    close+=[cp]\n",
    "\n",
    "change_close = []\n",
    "\n",
    "for x in close[1:]:\n",
    "    diff= abs(x-close[(close.index(x))-1])\n",
    "    change_close+=[diff]\n",
    "\n",
    "print('the largest change between any two days was: %.2f'%max(change_close))"
   ]
  },
  {
   "cell_type": "markdown",
   "metadata": {},
   "source": [
    "6) What was the average daily trading volume during this year?"
   ]
  },
  {
   "cell_type": "code",
   "execution_count": 405,
   "metadata": {
    "collapsed": false
   },
   "outputs": [
    {
     "name": "stdout",
     "output_type": "stream",
     "text": [
      "The average daily trading volume during 2017 was 89124.34\n"
     ]
    }
   ],
   "source": [
    "traded_volume=[]\n",
    "\n",
    "for key in fse_dict:\n",
    "    tv=fse_dict[key]['Traded Volume']\n",
    "    traded_volume+=[tv]\n",
    "\n",
    "print('The average daily trading volume during 2017 was %.2f'%(sum(traded_volume)/len(traded_volume)))"
   ]
  },
  {
   "cell_type": "markdown",
   "metadata": {},
   "source": [
    "7) (Optional) What was the median trading volume during this year. (Note: you may need to implement your own function for calculating the median.)"
   ]
  },
  {
   "cell_type": "code",
   "execution_count": 406,
   "metadata": {
    "collapsed": false
   },
   "outputs": [
    {
     "name": "stdout",
     "output_type": "stream",
     "text": [
      "The median trading volume during 2017 was 134965.00\n"
     ]
    }
   ],
   "source": [
    "#when defining the median function, make sure to take into account lists with even lengths; wherein we take the average \n",
    "#of the two values in the median position\n",
    "\n",
    "def median(x):\n",
    "    position=((len(x)+1)/2)\n",
    "    if (len(x))%2==0:\n",
    "        avg= (x[round(position-1.5)]+x[round(position+1.5)])/2\n",
    "        print(avg)\n",
    "    else:\n",
    "        return(x[round(position-1)])\n",
    "        print (x[position-1])\n",
    "       \n",
    "\n",
    "print('The median trading volume during 2017 was %.2f'%median(traded_volume))\n",
    "\n",
    "\n"
   ]
  }
 ],
 "metadata": {
  "kernelspec": {
   "display_name": "Python 3",
   "language": "python",
   "name": "python3"
  },
  "language_info": {
   "codemirror_mode": {
    "name": "ipython",
    "version": 3
   },
   "file_extension": ".py",
   "mimetype": "text/x-python",
   "name": "python",
   "nbconvert_exporter": "python",
   "pygments_lexer": "ipython3",
   "version": "3.7.1"
  }
 },
 "nbformat": 4,
 "nbformat_minor": 0
}
